{
 "cells": [
  {
   "cell_type": "markdown",
   "id": "cf262b4b",
   "metadata": {},
   "source": [
    "En el primer ejercicio, se pide que se realice un conversor de temperatura. Lo primero que hice fue buscar en internet cual es la fórmula que define la equivalencia entre un tipo de grado y otro. \n",
    "Dado que VScode va colaborando en hacer las cosas mas rápido, decidí sumarle la conversión entre los otros dos tipos de grados.\n",
    "En este ejercicio, utilicé variables del tipo float en todos los casos para poder ingresar números o resultados con decimales. \n",
    "Iba a hacerle un menú para que se eligiera qué tipo de grado va a ingresar y qué tipo de grado va a devolver, pero en mi cabeza funcionaba hermoso, no así en las lineas de código!"
   ]
  },
  {
   "cell_type": "code",
   "execution_count": null,
   "id": "80367c59",
   "metadata": {},
   "outputs": [],
   "source": [
    "print(\"ingrese la temperatura en grados Celsius: \")\n",
    "celafar =float(input())*9/5+32\n",
    "print(\"la tempreatura en grados Farenheit es: \", celafar)\n",
    "print(\"\\n\")\n",
    "\n",
    "print(\"ingrese la temperatura en grados Farenheit\")\n",
    "faracel =(float(input())-32)*5/9\n",
    "print(\"la tempreatura en grados Celsius es:\", faracel)\n",
    "print(\"\\n\")\n",
    "\n",
    "print(\"ingrese la temperatura en grados celsius\")\n",
    "celakel =float(input())+273.15\n",
    "print(\"la tempreatura en grados Kelvin es:\", celakel)\n",
    "print(\"\\n\")\n",
    "\n",
    "print(\"ingrese la temperatura en grados Kelvin\")\n",
    "kelacel =float(input())-273.15\n",
    "print(\"la tempreatura en grados Celsius es:\", kelacel)\n",
    "print(\"\\n\")\n",
    "\n",
    "print(\"ingrese la temperatura en grados Kelvin\")\n",
    "kelafar =float(input())*9/5-459.67\n",
    "print(\"la tempreatura en grados Farenheit es:\", kelafar)\n",
    "print(\"\\n\")\n",
    "\n",
    "print(\"ingrese la temperatura en grados Farenheit\")\n",
    "farakel =(float(input())-32)*5/9+273.15\n",
    "print(\"la tempreatura en grados Kelvin es:\", farakel)\n",
    "print(\"\\n\")\n"
   ]
  },
  {
   "cell_type": "markdown",
   "id": "ae3c7cbb",
   "metadata": {},
   "source": [
    "El segundo desafío, consiste en realizar un verificador de multiplos. Mi primer idea era una descripción muy larga, que iba utilizando los if por multiplo, luego los if por multiplos combinados, pero la cantidad de líneas (2 y 3; 2, 3 y 5; 2, 5 y 7...etc. y así sucesivamente) eran demasiadas, por lo que me decidí a hacerlo como el mismo ejercicio lo proponía: si es multiplo de 2, o no es multiplo de 2. y asi con los demás números. Lo que al final retorna, es la verificación de cada uno de los numeros múltiplo y si es o no es multiplo de ese numero.\n",
    "Utilicé IF y Else en todos los casos."
   ]
  },
  {
   "cell_type": "code",
   "execution_count": null,
   "id": "d7fd95ed",
   "metadata": {},
   "outputs": [],
   "source": [
    "print(\"ingresa un numero entero\")\n",
    "num = int(input())\n",
    "\n",
    "if num % 2 == 0:\n",
    "    print(\"El numero es multiplo de 2\")\n",
    "else:\n",
    "    print(\"El numero no es multiplo de 2\")\n",
    "if num % 3 == 0:\n",
    "    print(\"El numero es multiplo de 3\")\n",
    "else:\n",
    "    print(\"El numero no es multiplo de 3\")\n",
    "if num % 5 == 0:\n",
    "    print(\"El numero es multiplo de 5\")\n",
    "else:\n",
    "    print(\"El numero no es multiplo de 5\") \n",
    "if num % 7 == 0:\n",
    "    print(\"El numero es multiplo de 7\")\n",
    "else:\n",
    "    print(\"El numero no es multiplo de 7\")\n",
    "if num % 9 == 0:\n",
    "    print(\"El numero es multiplo de 9\")\n",
    "else:\n",
    "    print(\"El numero no es multiplo de 9\")\n",
    "if num % 10 == 0:\n",
    "    print(\"El numero es multiplo de 10\")\n",
    "else:\n",
    "    print(\"El numero no es multiplo de 10\")\n",
    "if num % 11 == 0:\n",
    "    print(\"El numero es multiplo de 11\")\n",
    "else:\n",
    "    print(\"El numero no es multiplo de 11\")\n"
   ]
  },
  {
   "cell_type": "markdown",
   "id": "3ec03e79",
   "metadata": {},
   "source": [
    "No utilicé ninguna webgrafía, mas que el propio VScode."
   ]
  },
  {
   "cell_type": "markdown",
   "id": "5ea4a5f9",
   "metadata": {},
   "source": [
    "El enlace al repositorio es: \n",
    "\n",
    "https://github.com/dimaferro/desafios-3-y-4.git"
   ]
  }
 ],
 "metadata": {
  "kernelspec": {
   "display_name": "Python 3",
   "language": "python",
   "name": "python3"
  },
  "language_info": {
   "codemirror_mode": {
    "name": "ipython",
    "version": 3
   },
   "file_extension": ".py",
   "mimetype": "text/x-python",
   "name": "python",
   "nbconvert_exporter": "python",
   "pygments_lexer": "ipython3",
   "version": "3.13.2"
  }
 },
 "nbformat": 4,
 "nbformat_minor": 5
}
